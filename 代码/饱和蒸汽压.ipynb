{
 "cells": [
  {
   "cell_type": "code",
   "execution_count": 1,
   "metadata": {},
   "outputs": [
    {
     "data": {
      "text/html": [
       "<div>\n",
       "<style scoped>\n",
       "    .dataframe tbody tr th:only-of-type {\n",
       "        vertical-align: middle;\n",
       "    }\n",
       "\n",
       "    .dataframe tbody tr th {\n",
       "        vertical-align: top;\n",
       "    }\n",
       "\n",
       "    .dataframe thead th {\n",
       "        text-align: right;\n",
       "    }\n",
       "</style>\n",
       "<table border=\"1\" class=\"dataframe\">\n",
       "  <thead>\n",
       "    <tr style=\"text-align: right;\">\n",
       "      <th></th>\n",
       "      <th>E1</th>\n",
       "      <th>E2</th>\n",
       "    </tr>\n",
       "    <tr>\n",
       "      <th>t</th>\n",
       "      <th></th>\n",
       "      <th></th>\n",
       "    </tr>\n",
       "  </thead>\n",
       "  <tbody>\n",
       "    <tr>\n",
       "      <th>25</th>\n",
       "      <td>-94.67</td>\n",
       "      <td>-94.69</td>\n",
       "    </tr>\n",
       "    <tr>\n",
       "      <th>30</th>\n",
       "      <td>-92.75</td>\n",
       "      <td>-92.77</td>\n",
       "    </tr>\n",
       "    <tr>\n",
       "      <th>35</th>\n",
       "      <td>-90.29</td>\n",
       "      <td>-90.29</td>\n",
       "    </tr>\n",
       "    <tr>\n",
       "      <th>40</th>\n",
       "      <td>-86.66</td>\n",
       "      <td>-86.67</td>\n",
       "    </tr>\n",
       "    <tr>\n",
       "      <th>45</th>\n",
       "      <td>-81.57</td>\n",
       "      <td>-81.55</td>\n",
       "    </tr>\n",
       "    <tr>\n",
       "      <th>50</th>\n",
       "      <td>-76.69</td>\n",
       "      <td>-76.74</td>\n",
       "    </tr>\n",
       "  </tbody>\n",
       "</table>\n",
       "</div>"
      ],
      "text/plain": [
       "       E1     E2\n",
       "t               \n",
       "25 -94.67 -94.69\n",
       "30 -92.75 -92.77\n",
       "35 -90.29 -90.29\n",
       "40 -86.66 -86.67\n",
       "45 -81.57 -81.55\n",
       "50 -76.69 -76.74"
      ]
     },
     "execution_count": 1,
     "metadata": {},
     "output_type": "execute_result"
    }
   ],
   "source": [
    "from os import path\n",
    "import pandas as pd\n",
    "data_folder = path.join('..', '数据', '饱和蒸汽压')\n",
    "raw_data = pd.read_csv(path.join(data_folder, '饱和蒸汽压.csv'), index_col=0)\n",
    "raw_data"
   ]
  },
  {
   "cell_type": "code",
   "execution_count": 24,
   "metadata": {},
   "outputs": [
    {
     "data": {
      "text/plain": [
       "[<matplotlib.lines.Line2D at 0x7fcdc98c3700>]"
      ]
     },
     "execution_count": 24,
     "metadata": {},
     "output_type": "execute_result"
    },
    {
     "data": {
      "image/png": "[encoded data removed]",
      "text/plain": [
       "<Figure size 432x288 with 1 Axes>"
      ]
     },
     "metadata": {
      "needs_background": "light"
     },
     "output_type": "display_data"
    }
   ],
   "source": [
    "p0 = 101.325 # kPa\n",
    "from matplotlib import pyplot as plt\n",
    "import numpy as np\n",
    "from sklearn import linear_model\n",
    "from scipy import constants\n",
    "E = (raw_data['E1'] + raw_data['E2']).to_numpy() / 2\n",
    "model = linear_model.LinearRegression()\n",
    "x = 1 / (raw_data.index.to_numpy() + 273.15)\n",
    "y = np.log(p0 + E)\n",
    "model.fit(x.reshape(-1, 1), y)\n",
    "x_fit = np.linspace(x.min(), x.max(), 10)\n",
    "y_pred = model.predict(x_fit.reshape(-1, 1))\n",
    "plt.scatter(x, y)\n",
    "plt.plot(x_fit, y_pred)"
   ]
  },
  {
   "cell_type": "code",
   "execution_count": 27,
   "metadata": {},
   "outputs": [
    {
     "data": {
      "text/plain": [
       "42738.91791021769"
      ]
     },
     "execution_count": 27,
     "metadata": {},
     "output_type": "execute_result"
    }
   ],
   "source": [
    "k = model.coef_[0] # 直线斜率\n",
    "b = model.intercept_ # 直线截距\n",
    "H = -k * constants.R\n",
    "H # 单位：J/mol"
   ]
  },
  {
   "cell_type": "code",
   "execution_count": 30,
   "metadata": {},
   "outputs": [
    {
     "data": {
      "text/plain": [
       "81.51057718350864"
      ]
     },
     "execution_count": 30,
     "metadata": {},
     "output_type": "execute_result"
    }
   ],
   "source": [
    "-k / (b - np.log(p0)) - 273.15"
   ]
  }
 ],
 "metadata": {
  "interpreter": {
   "hash": "37735a1691a3d1db4ec9af091dea987be77e469c17f14e1619da2b1f08d9c68d"
  },
  "kernelspec": {
   "display_name": "Python 3.9.7 ('base')",
   "language": "python",
   "name": "python3"
  },
  "language_info": {
   "codemirror_mode": {
    "name": "ipython",
    "version": 3
   },
   "file_extension": ".py",
   "mimetype": "text/x-python",
   "name": "python",
   "nbconvert_exporter": "python",
   "pygments_lexer": "ipython3",
   "version": "3.9.7"
  },
  "orig_nbformat": 4
 },
 "nbformat": 4,
 "nbformat_minor": 2
}

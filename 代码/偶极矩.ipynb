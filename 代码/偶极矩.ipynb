{
 "cells": [
  {
   "cell_type": "markdown",
   "metadata": {},
   "source": [
    "# 偶极矩的测定\n",
    "\n",
    "实验一开始时需要根据环己烷和乙酸乙酯的密度、摩尔质量来计算需要有多少体积的乙酸乙酯配成溶液，才能达到给定的摩尔分数。"
   ]
  },
  {
   "cell_type": "code",
   "execution_count": 1,
   "metadata": {},
   "outputs": [],
   "source": [
    "rho_hr = 0.77855 # 环己烷密度\n",
    "M_hr = 84.16 # 环己烷摩尔质量\n",
    "rho_yi = 0.9003 # 乙酸乙酯密度\n",
    "M_yi = 88.12 # 乙酸乙酯摩尔质量"
   ]
  },
  {
   "cell_type": "code",
   "execution_count": 2,
   "metadata": {},
   "outputs": [],
   "source": [
    "def V(v):\n",
    "    # 给定一个乙酸乙酯体积v，计算乙酸乙酯摩尔浓度，注意总量是25\n",
    "    A = rho_hr * (25 - v)  / M_hr\n",
    "    B = rho_yi * v / M_yi\n",
    "    return B / (A + B)\n"
   ]
  },
  {
   "cell_type": "code",
   "execution_count": 3,
   "metadata": {},
   "outputs": [
    {
     "data": {
      "text/plain": [
       "[1.1371974254356354, 2.285248827767572, 3.4443103457464983, 4.614541127375976]"
      ]
     },
     "execution_count": 3,
     "metadata": {},
     "output_type": "execute_result"
    }
   ],
   "source": [
    "from scipy.optimize import root_scalar\n",
    "x_is = [0.05, 0.10, 0.15, 0.20]\n",
    "res = []\n",
    "for x_i in x_is:\n",
    "\n",
    "    def VV(v):\n",
    "        return V(v) - x_i\n",
    "    r = root_scalar(VV, bracket=[-1, 25])\n",
    "    res.append(r.root)\n",
    "res # 此数据为应该量取的环己烷体积，单位mL"
   ]
  },
  {
   "cell_type": "markdown",
   "metadata": {},
   "source": [
    "## 测定数据\n"
   ]
  },
  {
   "cell_type": "code",
   "execution_count": 4,
   "metadata": {},
   "outputs": [
    {
     "data": {
      "text/html": [
       "<div>\n",
       "<style scoped>\n",
       "    .dataframe tbody tr th:only-of-type {\n",
       "        vertical-align: middle;\n",
       "    }\n",
       "\n",
       "    .dataframe tbody tr th {\n",
       "        vertical-align: top;\n",
       "    }\n",
       "\n",
       "    .dataframe thead th {\n",
       "        text-align: right;\n",
       "    }\n",
       "</style>\n",
       "<table border=\"1\" class=\"dataframe\">\n",
       "  <thead>\n",
       "    <tr style=\"text-align: right;\">\n",
       "      <th></th>\n",
       "      <th>空容量瓶</th>\n",
       "      <th>乙酸</th>\n",
       "      <th>环己烷</th>\n",
       "    </tr>\n",
       "    <tr>\n",
       "      <th>组别</th>\n",
       "      <th></th>\n",
       "      <th></th>\n",
       "      <th></th>\n",
       "    </tr>\n",
       "  </thead>\n",
       "  <tbody>\n",
       "    <tr>\n",
       "      <th>0.05</th>\n",
       "      <td>17.0974</td>\n",
       "      <td>17.8990</td>\n",
       "      <td>36.3779</td>\n",
       "    </tr>\n",
       "    <tr>\n",
       "      <th>0.10</th>\n",
       "      <td>28.9117</td>\n",
       "      <td>30.6767</td>\n",
       "      <td>48.3565</td>\n",
       "    </tr>\n",
       "    <tr>\n",
       "      <th>0.15</th>\n",
       "      <td>24.7731</td>\n",
       "      <td>27.6383</td>\n",
       "      <td>44.2263</td>\n",
       "    </tr>\n",
       "    <tr>\n",
       "      <th>0.20</th>\n",
       "      <td>24.6930</td>\n",
       "      <td>28.4962</td>\n",
       "      <td>44.4122</td>\n",
       "    </tr>\n",
       "  </tbody>\n",
       "</table>\n",
       "</div>"
      ],
      "text/plain": [
       "         空容量瓶       乙酸      环己烷\n",
       "组别                             \n",
       "0.05  17.0974  17.8990  36.3779\n",
       "0.10  28.9117  30.6767  48.3565\n",
       "0.15  24.7731  27.6383  44.2263\n",
       "0.20  24.6930  28.4962  44.4122"
      ]
     },
     "execution_count": 4,
     "metadata": {},
     "output_type": "execute_result"
    }
   ],
   "source": [
    "import pandas as pd\n",
    "import os.path\n",
    "data_path = os.path.join('..', '数据','偶极矩')\n",
    "weight_table = pd.read_csv(os.path.join(data_path, '重量.csv'), index_col=0)\n",
    "weight_table"
   ]
  },
  {
   "cell_type": "code",
   "execution_count": 5,
   "metadata": {},
   "outputs": [
    {
     "data": {
      "text/html": [
       "<div>\n",
       "<style scoped>\n",
       "    .dataframe tbody tr th:only-of-type {\n",
       "        vertical-align: middle;\n",
       "    }\n",
       "\n",
       "    .dataframe tbody tr th {\n",
       "        vertical-align: top;\n",
       "    }\n",
       "\n",
       "    .dataframe thead th {\n",
       "        text-align: right;\n",
       "    }\n",
       "</style>\n",
       "<table border=\"1\" class=\"dataframe\">\n",
       "  <thead>\n",
       "    <tr style=\"text-align: right;\">\n",
       "      <th></th>\n",
       "      <th>n1</th>\n",
       "      <th>n2</th>\n",
       "    </tr>\n",
       "    <tr>\n",
       "      <th>组别</th>\n",
       "      <th></th>\n",
       "      <th></th>\n",
       "    </tr>\n",
       "  </thead>\n",
       "  <tbody>\n",
       "    <tr>\n",
       "      <th>水</th>\n",
       "      <td>1.3610</td>\n",
       "      <td>1.3600</td>\n",
       "    </tr>\n",
       "    <tr>\n",
       "      <th>0.05</th>\n",
       "      <td>1.4230</td>\n",
       "      <td>1.4230</td>\n",
       "    </tr>\n",
       "    <tr>\n",
       "      <th>0.10</th>\n",
       "      <td>1.4198</td>\n",
       "      <td>1.4210</td>\n",
       "    </tr>\n",
       "    <tr>\n",
       "      <th>0.15</th>\n",
       "      <td>1.4188</td>\n",
       "      <td>1.4189</td>\n",
       "    </tr>\n",
       "    <tr>\n",
       "      <th>0.20</th>\n",
       "      <td>1.4180</td>\n",
       "      <td>1.4180</td>\n",
       "    </tr>\n",
       "  </tbody>\n",
       "</table>\n",
       "</div>"
      ],
      "text/plain": [
       "          n1      n2\n",
       "组别                  \n",
       "水     1.3610  1.3600\n",
       "0.05  1.4230  1.4230\n",
       "0.10  1.4198  1.4210\n",
       "0.15  1.4188  1.4189\n",
       "0.20  1.4180  1.4180"
      ]
     },
     "execution_count": 5,
     "metadata": {},
     "output_type": "execute_result"
    }
   ],
   "source": [
    "n_table = pd.read_csv(os.path.join(data_path, '折射率.csv'), index_col=0)\n",
    "n_table"
   ]
  },
  {
   "cell_type": "code",
   "execution_count": 6,
   "metadata": {},
   "outputs": [
    {
     "data": {
      "text/html": [
       "<div>\n",
       "<style scoped>\n",
       "    .dataframe tbody tr th:only-of-type {\n",
       "        vertical-align: middle;\n",
       "    }\n",
       "\n",
       "    .dataframe tbody tr th {\n",
       "        vertical-align: top;\n",
       "    }\n",
       "\n",
       "    .dataframe thead th {\n",
       "        text-align: right;\n",
       "    }\n",
       "</style>\n",
       "<table border=\"1\" class=\"dataframe\">\n",
       "  <thead>\n",
       "    <tr style=\"text-align: right;\">\n",
       "      <th></th>\n",
       "      <th>空瓶质量</th>\n",
       "      <th>5mL质量</th>\n",
       "    </tr>\n",
       "    <tr>\n",
       "      <th>组别</th>\n",
       "      <th></th>\n",
       "      <th></th>\n",
       "    </tr>\n",
       "  </thead>\n",
       "  <tbody>\n",
       "    <tr>\n",
       "      <th>水</th>\n",
       "      <td>9.1749</td>\n",
       "      <td>14.0500</td>\n",
       "    </tr>\n",
       "    <tr>\n",
       "      <th>0.05</th>\n",
       "      <td>9.1749</td>\n",
       "      <td>13.0726</td>\n",
       "    </tr>\n",
       "    <tr>\n",
       "      <th>0.10</th>\n",
       "      <td>9.1749</td>\n",
       "      <td>13.0932</td>\n",
       "    </tr>\n",
       "    <tr>\n",
       "      <th>0.15</th>\n",
       "      <td>9.1752</td>\n",
       "      <td>13.1171</td>\n",
       "    </tr>\n",
       "    <tr>\n",
       "      <th>0.20</th>\n",
       "      <td>9.1850</td>\n",
       "      <td>13.2194</td>\n",
       "    </tr>\n",
       "  </tbody>\n",
       "</table>\n",
       "</div>"
      ],
      "text/plain": [
       "        空瓶质量    5mL质量\n",
       "组别                   \n",
       "水     9.1749  14.0500\n",
       "0.05  9.1749  13.0726\n",
       "0.10  9.1749  13.0932\n",
       "0.15  9.1752  13.1171\n",
       "0.20  9.1850  13.2194"
      ]
     },
     "execution_count": 6,
     "metadata": {},
     "output_type": "execute_result"
    }
   ],
   "source": [
    "rho_table = pd.read_csv(os.path.join(data_path, '密度.csv'), index_col=0)\n",
    "rho_table"
   ]
  },
  {
   "cell_type": "code",
   "execution_count": 7,
   "metadata": {},
   "outputs": [
    {
     "data": {
      "text/html": [
       "<div>\n",
       "<style scoped>\n",
       "    .dataframe tbody tr th:only-of-type {\n",
       "        vertical-align: middle;\n",
       "    }\n",
       "\n",
       "    .dataframe tbody tr th {\n",
       "        vertical-align: top;\n",
       "    }\n",
       "\n",
       "    .dataframe thead th {\n",
       "        text-align: right;\n",
       "    }\n",
       "</style>\n",
       "<table border=\"1\" class=\"dataframe\">\n",
       "  <thead>\n",
       "    <tr style=\"text-align: right;\">\n",
       "      <th></th>\n",
       "      <th>电容1</th>\n",
       "      <th>电容2</th>\n",
       "    </tr>\n",
       "    <tr>\n",
       "      <th>组别</th>\n",
       "      <th></th>\n",
       "      <th></th>\n",
       "    </tr>\n",
       "  </thead>\n",
       "  <tbody>\n",
       "    <tr>\n",
       "      <th>空气</th>\n",
       "      <td>5.56</td>\n",
       "      <td>5.56</td>\n",
       "    </tr>\n",
       "    <tr>\n",
       "      <th>环己烷</th>\n",
       "      <td>8.14</td>\n",
       "      <td>8.14</td>\n",
       "    </tr>\n",
       "    <tr>\n",
       "      <th>0.05</th>\n",
       "      <td>8.39</td>\n",
       "      <td>8.38</td>\n",
       "    </tr>\n",
       "    <tr>\n",
       "      <th>0.10</th>\n",
       "      <td>8.80</td>\n",
       "      <td>8.78</td>\n",
       "    </tr>\n",
       "    <tr>\n",
       "      <th>0.15</th>\n",
       "      <td>8.88</td>\n",
       "      <td>8.89</td>\n",
       "    </tr>\n",
       "    <tr>\n",
       "      <th>0.20</th>\n",
       "      <td>8.93</td>\n",
       "      <td>8.92</td>\n",
       "    </tr>\n",
       "  </tbody>\n",
       "</table>\n",
       "</div>"
      ],
      "text/plain": [
       "       电容1   电容2\n",
       "组别              \n",
       "空气    5.56  5.56\n",
       "环己烷   8.14  8.14\n",
       "0.05  8.39  8.38\n",
       "0.10  8.80  8.78\n",
       "0.15  8.88  8.89\n",
       "0.20  8.93  8.92"
      ]
     },
     "execution_count": 7,
     "metadata": {},
     "output_type": "execute_result"
    }
   ],
   "source": [
    "c_table = pd.read_csv(os.path.join(data_path, '电容.csv'), index_col=0)\n",
    "c_table"
   ]
  },
  {
   "cell_type": "markdown",
   "metadata": {},
   "source": [
    "## 按照实验指导书作图"
   ]
  },
  {
   "cell_type": "markdown",
   "metadata": {},
   "source": [
    "### 计算实际物质的量分数\n",
    "\n",
    "实际的物质的量分数计算公式为\n",
    "\n",
    "$$\n",
    "n = \\frac{m_1 - m_0}{M} \n",
    "$$\n",
    "\n",
    "$$\n",
    "n' = \\frac{m_2 - m_1}{M'} \n",
    "$$\n",
    "\n",
    "$$\n",
    "w = \\frac{n}{n + n'}\n",
    "$$\n",
    "\n",
    "这里$n$为乙酸乙酯物质的量，$n'$为环己烷物质的量，$m_0, m_1, m_2$分别为先后测定的三个数值，也就是空容量瓶、乙酸、环己烷"
   ]
  },
  {
   "cell_type": "code",
   "execution_count": 8,
   "metadata": {},
   "outputs": [
    {
     "data": {
      "text/html": [
       "<div>\n",
       "<style scoped>\n",
       "    .dataframe tbody tr th:only-of-type {\n",
       "        vertical-align: middle;\n",
       "    }\n",
       "\n",
       "    .dataframe tbody tr th {\n",
       "        vertical-align: top;\n",
       "    }\n",
       "\n",
       "    .dataframe thead th {\n",
       "        text-align: right;\n",
       "    }\n",
       "</style>\n",
       "<table border=\"1\" class=\"dataframe\">\n",
       "  <thead>\n",
       "    <tr style=\"text-align: right;\">\n",
       "      <th></th>\n",
       "      <th>x</th>\n",
       "    </tr>\n",
       "    <tr>\n",
       "      <th>组别</th>\n",
       "      <th></th>\n",
       "    </tr>\n",
       "  </thead>\n",
       "  <tbody>\n",
       "    <tr>\n",
       "      <th>0.05</th>\n",
       "      <td>0.039782</td>\n",
       "    </tr>\n",
       "    <tr>\n",
       "      <th>0.10</th>\n",
       "      <td>0.087046</td>\n",
       "    </tr>\n",
       "    <tr>\n",
       "      <th>0.15</th>\n",
       "      <td>0.141605</td>\n",
       "    </tr>\n",
       "    <tr>\n",
       "      <th>0.20</th>\n",
       "      <td>0.185811</td>\n",
       "    </tr>\n",
       "  </tbody>\n",
       "</table>\n",
       "</div>"
      ],
      "text/plain": [
       "             x\n",
       "组别            \n",
       "0.05  0.039782\n",
       "0.10  0.087046\n",
       "0.15  0.141605\n",
       "0.20  0.185811"
      ]
     },
     "execution_count": 8,
     "metadata": {},
     "output_type": "execute_result"
    }
   ],
   "source": [
    "def get_w(weight_table: pd.DataFrame) -> pd.DataFrame:\n",
    "    n = (weight_table['乙酸'] - weight_table['空容量瓶']) / M_yi\n",
    "    n_ = (weight_table['环己烷'] - weight_table['乙酸']) / M_hr\n",
    "    w = n / (n + n_)\n",
    "    return pd.DataFrame(\n",
    "        {\n",
    "            \"x\": w\n",
    "        }\n",
    "    )\n",
    "w = get_w(weight_table)\n",
    "w"
   ]
  },
  {
   "cell_type": "markdown",
   "metadata": {},
   "source": [
    "### 绘制折射率$n$与$x_2$的关系，求出$\\gamma$值"
   ]
  },
  {
   "cell_type": "code",
   "execution_count": 9,
   "metadata": {},
   "outputs": [
    {
     "data": {
      "text/plain": [
       "组别\n",
       "0.05    1.42300\n",
       "0.10    1.42040\n",
       "0.15    1.41885\n",
       "0.20    1.41800\n",
       "dtype: float64"
      ]
     },
     "execution_count": 9,
     "metadata": {},
     "output_type": "execute_result"
    }
   ],
   "source": [
    "# 先计算平均值，也就是4组的n\n",
    "n = (n_table['n1'] + n_table['n2']) / 2\n",
    "n = n[1:]\n",
    "n"
   ]
  },
  {
   "cell_type": "code",
   "execution_count": 10,
   "metadata": {},
   "outputs": [
    {
     "data": {
      "text/plain": [
       "<matplotlib.legend.Legend at 0x7fa0ac275370>"
      ]
     },
     "execution_count": 10,
     "metadata": {},
     "output_type": "execute_result"
    },
    {
     "data": {
      "image/png": "[encoded data removed]",
      "text/plain": [
       "<Figure size 720x576 with 1 Axes>"
      ]
     },
     "metadata": {
      "needs_background": "light"
     },
     "output_type": "display_data"
    }
   ],
   "source": [
    "# 绘制图像（线性回归）\n",
    "from matplotlib import pyplot as plt\n",
    "import matplotlib\n",
    "from sklearn import linear_model\n",
    "import numpy as np\n",
    "matplotlib.rcParams['figure.figsize'] = [10, 8]\n",
    "model = linear_model.LinearRegression()\n",
    "figure1_reg = model.fit(np.array(w['x']).reshape(-1, 1), n)\n",
    "x_pred = np.linspace(w['x'].iloc[0], w['x'].iloc[3], 100).reshape(-1, 1)\n",
    "y_pred = figure1_reg.predict(x_pred)\n",
    "plt.plot(x_pred, y_pred, label='y = %.3fx + %.3f' % (figure1_reg.coef_[0], figure1_reg.intercept_))\n",
    "plt.scatter(w['x'], n)\n",
    "plt.xlabel('$x_2$')\n",
    "plt.ylabel('n')\n",
    "plt.title('$x_2$-n')\n",
    "plt.legend()"
   ]
  },
  {
   "cell_type": "markdown",
   "metadata": {},
   "source": [
    "#### 计算$\\gamma$值\n",
    "\n",
    "由于\n",
    "$$\n",
    "n_{溶} = n_1(1 + \\gamma x_2)\n",
    "$$\n",
    "\n",
    "而回归方程为\n",
    "$$\n",
    "y_{n_溶} = ax_2 + b\n",
    "$$\n",
    "\n",
    "对照系数可以计算得：\n",
    "\n",
    "$$\n",
    "n_1 = b \\qquad \\gamma = \\frac{a}{b}\n",
    "$$"
   ]
  },
  {
   "cell_type": "code",
   "execution_count": 11,
   "metadata": {},
   "outputs": [
    {
     "data": {
      "text/plain": [
       "-0.023617939251635446"
      ]
     },
     "execution_count": 11,
     "metadata": {},
     "output_type": "execute_result"
    }
   ],
   "source": [
    "gamma = figure1_reg.coef_[0] / figure1_reg.intercept_\n",
    "gamma"
   ]
  },
  {
   "cell_type": "code",
   "execution_count": 12,
   "metadata": {},
   "outputs": [
    {
     "data": {
      "text/plain": [
       "1.4238814570530742"
      ]
     },
     "execution_count": 12,
     "metadata": {},
     "output_type": "execute_result"
    }
   ],
   "source": [
    "n1 = figure1_reg.intercept_\n",
    "n1"
   ]
  },
  {
   "cell_type": "markdown",
   "metadata": {},
   "source": [
    "### 计算环己烷以及各种溶液的密度$\\rho$，作$\\rho-x_2$图，求出$\\beta$值"
   ]
  },
  {
   "cell_type": "code",
   "execution_count": 13,
   "metadata": {},
   "outputs": [
    {
     "data": {
      "text/plain": [
       "组别\n",
       "0.05    0.77954\n",
       "0.10    0.78366\n",
       "0.15    0.78838\n",
       "0.20    0.80688\n",
       "dtype: float64"
      ]
     },
     "execution_count": 13,
     "metadata": {},
     "output_type": "execute_result"
    }
   ],
   "source": [
    "rho = rho_table['5mL质量'] - rho_table['空瓶质量']\n",
    "rho = rho[1:] / 5\n",
    "rho # 单位：g/mL"
   ]
  },
  {
   "cell_type": "code",
   "execution_count": 14,
   "metadata": {},
   "outputs": [
    {
     "data": {
      "text/plain": [
       "<matplotlib.legend.Legend at 0x7fa0a2185dc0>"
      ]
     },
     "execution_count": 14,
     "metadata": {},
     "output_type": "execute_result"
    },
    {
     "data": {
      "image/png": "[encoded data removed]",
      "text/plain": [
       "<Figure size 720x576 with 1 Axes>"
      ]
     },
     "metadata": {
      "needs_background": "light"
     },
     "output_type": "display_data"
    }
   ],
   "source": [
    "figure2_reg = model.fit(np.array(w['x']).reshape(-1, 1), rho)\n",
    "x_pred = np.linspace(w['x'].iloc[0], w['x'].iloc[3], 100).reshape(-1, 1)\n",
    "y_pred = figure2_reg.predict(x_pred)\n",
    "plt.plot(x_pred, y_pred, label='y = %.3fx + %.3f' % (figure2_reg.coef_[0], figure2_reg.intercept_))\n",
    "plt.scatter(w['x'], rho)\n",
    "plt.xlabel(r'$x_2$')\n",
    "plt.ylabel(r'$\\rho$')\n",
    "plt.title(r'$x_2$-$\\rho$')\n",
    "plt.legend()"
   ]
  },
  {
   "cell_type": "markdown",
   "metadata": {},
   "source": [
    "利用公式\n",
    "$$\n",
    "\\beta = \\frac{a}{b}\n",
    "$$\n",
    "\n",
    "计算$\\beta$。"
   ]
  },
  {
   "cell_type": "code",
   "execution_count": 15,
   "metadata": {},
   "outputs": [
    {
     "data": {
      "text/plain": [
       "0.22594694342090157"
      ]
     },
     "execution_count": 15,
     "metadata": {},
     "output_type": "execute_result"
    }
   ],
   "source": [
    "beta = figure2_reg.coef_[0] / figure2_reg.intercept_\n",
    "beta"
   ]
  },
  {
   "cell_type": "markdown",
   "metadata": {},
   "source": [
    "### 计算介电常数\n",
    "\n",
    "计算公式：\n",
    "$$\n",
    "C_{空气} = \\frac{C'_{标} - C'_{空气}}{\\epsilon_{标} - 1}\n",
    "$$\n",
    "\n",
    "其中\n",
    "\n",
    "$$\n",
    "\\epsilon _{标} = 2.052 - 1.55 \\times 10^{-3} T\n",
    "$$\n",
    "\n",
    "$T$为温度，单位：摄氏度。\n",
    "\n",
    "$$\n",
    "C_d = C'_{标} - \\epsilon _{标} \\cdot C_{空气}\n",
    "$$\n",
    "\n",
    "介电常数\n",
    "\n",
    "$$\n",
    "\\mathbf{\\epsilon} = \\frac{C'_{测定值} - C_d}{C_{空气}}\n",
    "$$"
   ]
  },
  {
   "cell_type": "code",
   "execution_count": 16,
   "metadata": {},
   "outputs": [
    {
     "data": {
      "text/plain": [
       "2.526934378060726"
      ]
     },
     "execution_count": 16,
     "metadata": {},
     "output_type": "execute_result"
    }
   ],
   "source": [
    "def eps_std(t):\n",
    "    return 2.052 - 1.55 * 10 ** -3 * t\n",
    "c_table['电容'] = (c_table['电容1'] + c_table['电容2']) / 2\n",
    "T = 20 # 做实验的时候的室温\n",
    "c_air = (c_table['电容']['环己烷'] - c_table['电容']['空气']) / (eps_std(T) - 1)\n",
    "c_air # pF"
   ]
  },
  {
   "cell_type": "code",
   "execution_count": 17,
   "metadata": {},
   "outputs": [
    {
     "data": {
      "text/plain": [
       "3.033065621939273"
      ]
     },
     "execution_count": 17,
     "metadata": {},
     "output_type": "execute_result"
    }
   ],
   "source": [
    "c_d = c_table['电容']['环己烷'] - eps_std(T) * c_air\n",
    "c_d # pF"
   ]
  },
  {
   "cell_type": "code",
   "execution_count": 18,
   "metadata": {},
   "outputs": [
    {
     "data": {
      "text/plain": [
       "组别\n",
       "空气      1.000000\n",
       "环己烷     2.021000\n",
       "0.05    2.117955\n",
       "0.10    2.278229\n",
       "0.15    2.315824\n",
       "0.20    2.331653\n",
       "Name: 电容, dtype: float64"
      ]
     },
     "execution_count": 18,
     "metadata": {},
     "output_type": "execute_result"
    }
   ],
   "source": [
    "eps = (c_table['电容'] - c_d) / c_air\n",
    "eps"
   ]
  },
  {
   "cell_type": "code",
   "execution_count": 19,
   "metadata": {},
   "outputs": [
    {
     "data": {
      "text/plain": [
       "array([2.11795543, 2.27822868, 2.31582364, 2.3316531 ])"
      ]
     },
     "execution_count": 19,
     "metadata": {},
     "output_type": "execute_result"
    }
   ],
   "source": [
    "eps = np.array(eps[2:])\n",
    "eps"
   ]
  },
  {
   "cell_type": "code",
   "execution_count": 20,
   "metadata": {},
   "outputs": [
    {
     "data": {
      "text/plain": [
       "<matplotlib.legend.Legend at 0x7fa0a1ee56d0>"
      ]
     },
     "execution_count": 20,
     "metadata": {},
     "output_type": "execute_result"
    },
    {
     "data": {
      "image/png": "[encoded data removed]",
      "text/plain": [
       "<Figure size 720x576 with 1 Axes>"
      ]
     },
     "metadata": {
      "needs_background": "light"
     },
     "output_type": "display_data"
    }
   ],
   "source": [
    "\n",
    "figure3_reg = model.fit(np.array(w['x']).reshape(-1, 1), eps)\n",
    "x_pred = np.linspace(w['x'].iloc[0], w['x'].iloc[3], 100).reshape(-1, 1)\n",
    "y_pred = figure3_reg.predict(x_pred)\n",
    "plt.plot(x_pred, y_pred, label='y = %.3fx + %.3f' % (figure3_reg.coef_[0], figure3_reg.intercept_))\n",
    "plt.scatter(w['x'], eps)\n",
    "plt.xlabel(r'$x$')\n",
    "plt.ylabel(r'$\\epsilon$')\n",
    "plt.title(r'x-$\\epsilon$')\n",
    "plt.legend()"
   ]
  },
  {
   "cell_type": "code",
   "execution_count": 21,
   "metadata": {},
   "outputs": [
    {
     "data": {
      "text/plain": [
       "0.6544842011035014"
      ]
     },
     "execution_count": 21,
     "metadata": {},
     "output_type": "execute_result"
    }
   ],
   "source": [
    "alpha = figure3_reg.coef_[0] / figure3_reg.intercept_\n",
    "alpha"
   ]
  },
  {
   "cell_type": "markdown",
   "metadata": {},
   "source": [
    "# 计算偶极矩$\\mu$值\n",
    "\n",
    "## 先计算$P_2^\\infty$和$R_2^\\infty$\n",
    "\n",
    "$$\n",
    "P_2^\\infty = \\frac{3\\alpha \\epsilon _1}{(\\epsilon _1 + 2)^2} \\frac{M_1}{\\rho_1} + \\frac{\\epsilon _1 - 1}{\\epsilon _1 + 2} \\frac{M_2 - \\beta M_1}{\\rho_1}\n",
    "$$\n",
    "\n",
    "$$\n",
    "R_2^\\infty = \\frac{n_1^2 - 1}{n_1^2 + 2} \\frac{M_2 - \\beta M_1}{\\rho_1} + \\frac{6n_1^2M_1 \\gamma}{(n_1^2 + 2)^2 \\rho_1}\n",
    "$$\n",
    "\n",
    "## 根据公式计算$\\mu$\n",
    "\n",
    "$$\n",
    "\\mu = 0.0128 \\sqrt{(P_2^\\infty - R_2^\\infty)T}\n",
    "$$\n"
   ]
  },
  {
   "cell_type": "code",
   "execution_count": 22,
   "metadata": {},
   "outputs": [],
   "source": [
    "eps1 = eps_std(T)\n",
    "M1 = M_hr # 溶剂的摩尔质量为环己烷的摩尔质量\n",
    "rho1 = rho_hr # 溶剂的密度为环己烷的密度\n",
    "n1 # 已经在折射率部分计算过\n",
    "M2 = M_yi # 乙酸乙酯"
   ]
  },
  {
   "cell_type": "code",
   "execution_count": 23,
   "metadata": {},
   "outputs": [
    {
     "data": {
      "text/plain": [
       "88.76026618932237"
      ]
     },
     "execution_count": 23,
     "metadata": {},
     "output_type": "execute_result"
    }
   ],
   "source": [
    "aux = (M2 - beta * M1) / rho1\n",
    "aux"
   ]
  },
  {
   "cell_type": "code",
   "execution_count": 24,
   "metadata": {},
   "outputs": [
    {
     "data": {
      "text/plain": [
       "1.4238814570530742"
      ]
     },
     "execution_count": 24,
     "metadata": {},
     "output_type": "execute_result"
    }
   ],
   "source": [
    "n1"
   ]
  },
  {
   "cell_type": "code",
   "execution_count": 25,
   "metadata": {},
   "outputs": [
    {
     "data": {
      "text/plain": [
       "49.067768874702374"
      ]
     },
     "execution_count": 25,
     "metadata": {},
     "output_type": "execute_result"
    }
   ],
   "source": [
    "P = 3 * alpha * eps1 / ((eps1 + 2) ** 2) * M1 / rho1 + (eps1 - 1) / (eps1 + 2) * aux\n",
    "P"
   ]
  },
  {
   "cell_type": "code",
   "execution_count": 26,
   "metadata": {},
   "outputs": [
    {
     "data": {
      "text/plain": [
       "20.728893493488076"
      ]
     },
     "execution_count": 26,
     "metadata": {},
     "output_type": "execute_result"
    }
   ],
   "source": [
    "n12 = n1 * n1\n",
    "R = (n12 - 1) / (n12 + 2) * aux + (6 * n12 * M1 * gamma) / ((n12 + 2) ** 2 * rho1)\n",
    "R"
   ]
  },
  {
   "cell_type": "code",
   "execution_count": 27,
   "metadata": {},
   "outputs": [
    {
     "data": {
      "text/plain": [
       "1.362797320581186"
      ]
     },
     "execution_count": 27,
     "metadata": {},
     "output_type": "execute_result"
    }
   ],
   "source": [
    "import math\n",
    "mu = 0.0128 * math.sqrt((P - R) * T)\n",
    "mu"
   ]
  },
  {
   "cell_type": "markdown",
   "metadata": {},
   "source": [
    "$$\n",
    "\\mu = 1.363\n",
    "$$"
   ]
  },
  {
   "cell_type": "markdown",
   "metadata": {},
   "source": [
    "# 计算真值和相对误差"
   ]
  },
  {
   "cell_type": "code",
   "execution_count": 28,
   "metadata": {},
   "outputs": [
    {
     "data": {
      "text/plain": [
       "0.23866071475911393"
      ]
     },
     "execution_count": 28,
     "metadata": {},
     "output_type": "execute_result"
    }
   ],
   "source": [
    "mu_real = 1.79 # D\n",
    "(mu_real - mu) / mu_real"
   ]
  }
 ],
 "metadata": {
  "interpreter": {
   "hash": "e7370f93d1d0cde622a1f8e1c04877d8463912d04d973331ad4851f04de6915a"
  },
  "kernelspec": {
   "display_name": "Python 3.10.2 64-bit",
   "language": "python",
   "name": "python3"
  },
  "language_info": {
   "codemirror_mode": {
    "name": "ipython",
    "version": 3
   },
   "file_extension": ".py",
   "mimetype": "text/x-python",
   "name": "python",
   "nbconvert_exporter": "python",
   "pygments_lexer": "ipython3",
   "version": "3.9.7"
  },
  "orig_nbformat": 4
 },
 "nbformat": 4,
 "nbformat_minor": 2
}

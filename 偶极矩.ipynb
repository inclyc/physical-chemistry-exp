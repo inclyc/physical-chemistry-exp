{
 "cells": [
  {
   "cell_type": "markdown",
   "metadata": {},
   "source": [
    "# 偶极矩的测定\n",
    "\n",
    "实验一开始时需要根据环己烷和乙酸乙酯的密度、摩尔质量来计算需要有多少体积的乙酸乙酯配成溶液，才能达到给定的摩尔分数。"
   ]
  },
  {
   "cell_type": "code",
   "execution_count": 1,
   "metadata": {},
   "outputs": [],
   "source": [
    "rho_hr = 0.77855 # 环己烷密度\n",
    "M_hr = 84.16 # 环己烷摩尔质量\n",
    "rho_yi = 0.9003 # 乙酸乙酯密度\n",
    "M_yi = 88.12 # 乙酸乙酯摩尔质量"
   ]
  },
  {
   "cell_type": "code",
   "execution_count": 2,
   "metadata": {},
   "outputs": [],
   "source": [
    "def V(v):\n",
    "    # 给定一个乙酸乙酯体积v，计算乙酸乙酯摩尔浓度，注意总量是25\n",
    "    A = rho_hr * (25 - v)  / M_hr\n",
    "    B = rho_yi * v / M_yi\n",
    "    return B / (A + B)\n"
   ]
  },
  {
   "cell_type": "code",
   "execution_count": 3,
   "metadata": {},
   "outputs": [
    {
     "data": {
      "text/plain": [
       "[1.1371974254356354, 2.285248827767572, 3.4443103457464983, 4.614541127375976]"
      ]
     },
     "execution_count": 3,
     "metadata": {},
     "output_type": "execute_result"
    }
   ],
   "source": [
    "from scipy.optimize import root_scalar\n",
    "x_is = [0.05, 0.10, 0.15, 0.20]\n",
    "res = []\n",
    "for x_i in x_is:\n",
    "\n",
    "    def VV(v):\n",
    "        return V(v) - x_i\n",
    "    r = root_scalar(VV, bracket=[-1, 25])\n",
    "    res.append(r.root)\n",
    "res # 此数据为应该量取的环己烷体积，单位mL"
   ]
  },
  {
   "cell_type": "markdown",
   "metadata": {},
   "source": [
    "## 测定数据\n",
    "\n",
    "这些数据是我做实验的时候测得，如果想自己应用需要改改，数据都在`数据`文件夹里"
   ]
  },
  {
   "cell_type": "code",
   "execution_count": 4,
   "metadata": {},
   "outputs": [
    {
     "data": {
      "text/html": [
       "<div>\n",
       "<style scoped>\n",
       "    .dataframe tbody tr th:only-of-type {\n",
       "        vertical-align: middle;\n",
       "    }\n",
       "\n",
       "    .dataframe tbody tr th {\n",
       "        vertical-align: top;\n",
       "    }\n",
       "\n",
       "    .dataframe thead th {\n",
       "        text-align: right;\n",
       "    }\n",
       "</style>\n",
       "<table border=\"1\" class=\"dataframe\">\n",
       "  <thead>\n",
       "    <tr style=\"text-align: right;\">\n",
       "      <th></th>\n",
       "      <th>组别</th>\n",
       "      <th>空容量瓶</th>\n",
       "      <th>乙酸</th>\n",
       "      <th>环己烷</th>\n",
       "    </tr>\n",
       "  </thead>\n",
       "  <tbody>\n",
       "    <tr>\n",
       "      <th>0</th>\n",
       "      <td>0.05</td>\n",
       "      <td>17.0974</td>\n",
       "      <td>17.8990</td>\n",
       "      <td>36.3779</td>\n",
       "    </tr>\n",
       "    <tr>\n",
       "      <th>1</th>\n",
       "      <td>0.10</td>\n",
       "      <td>28.9117</td>\n",
       "      <td>30.6767</td>\n",
       "      <td>48.3565</td>\n",
       "    </tr>\n",
       "    <tr>\n",
       "      <th>2</th>\n",
       "      <td>0.15</td>\n",
       "      <td>24.7731</td>\n",
       "      <td>27.6383</td>\n",
       "      <td>44.2263</td>\n",
       "    </tr>\n",
       "    <tr>\n",
       "      <th>3</th>\n",
       "      <td>0.20</td>\n",
       "      <td>24.6930</td>\n",
       "      <td>28.4962</td>\n",
       "      <td>44.4122</td>\n",
       "    </tr>\n",
       "  </tbody>\n",
       "</table>\n",
       "</div>"
      ],
      "text/plain": [
       "     组别     空容量瓶       乙酸      环己烷\n",
       "0  0.05  17.0974  17.8990  36.3779\n",
       "1  0.10  28.9117  30.6767  48.3565\n",
       "2  0.15  24.7731  27.6383  44.2263\n",
       "3  0.20  24.6930  28.4962  44.4122"
      ]
     },
     "execution_count": 4,
     "metadata": {},
     "output_type": "execute_result"
    }
   ],
   "source": [
    "import pandas as pd\n",
    "import os.path\n",
    "data_path = os.path.join('数据','偶极矩')\n",
    "weight_table = pd.read_csv(os.path.join(data_path, '重量.csv'))\n",
    "weight_table"
   ]
  },
  {
   "cell_type": "code",
   "execution_count": 5,
   "metadata": {},
   "outputs": [
    {
     "data": {
      "text/html": [
       "<div>\n",
       "<style scoped>\n",
       "    .dataframe tbody tr th:only-of-type {\n",
       "        vertical-align: middle;\n",
       "    }\n",
       "\n",
       "    .dataframe tbody tr th {\n",
       "        vertical-align: top;\n",
       "    }\n",
       "\n",
       "    .dataframe thead th {\n",
       "        text-align: right;\n",
       "    }\n",
       "</style>\n",
       "<table border=\"1\" class=\"dataframe\">\n",
       "  <thead>\n",
       "    <tr style=\"text-align: right;\">\n",
       "      <th></th>\n",
       "      <th>组别</th>\n",
       "      <th>n1</th>\n",
       "      <th>n2</th>\n",
       "    </tr>\n",
       "  </thead>\n",
       "  <tbody>\n",
       "    <tr>\n",
       "      <th>0</th>\n",
       "      <td>水</td>\n",
       "      <td>1.3610</td>\n",
       "      <td>1.3600</td>\n",
       "    </tr>\n",
       "    <tr>\n",
       "      <th>1</th>\n",
       "      <td>0.05</td>\n",
       "      <td>1.4230</td>\n",
       "      <td>1.4230</td>\n",
       "    </tr>\n",
       "    <tr>\n",
       "      <th>2</th>\n",
       "      <td>0.10</td>\n",
       "      <td>1.4198</td>\n",
       "      <td>1.4210</td>\n",
       "    </tr>\n",
       "    <tr>\n",
       "      <th>3</th>\n",
       "      <td>0.15</td>\n",
       "      <td>1.4188</td>\n",
       "      <td>1.4189</td>\n",
       "    </tr>\n",
       "    <tr>\n",
       "      <th>4</th>\n",
       "      <td>0.20</td>\n",
       "      <td>1.4180</td>\n",
       "      <td>1.4180</td>\n",
       "    </tr>\n",
       "  </tbody>\n",
       "</table>\n",
       "</div>"
      ],
      "text/plain": [
       "     组别      n1      n2\n",
       "0     水  1.3610  1.3600\n",
       "1  0.05  1.4230  1.4230\n",
       "2  0.10  1.4198  1.4210\n",
       "3  0.15  1.4188  1.4189\n",
       "4  0.20  1.4180  1.4180"
      ]
     },
     "execution_count": 5,
     "metadata": {},
     "output_type": "execute_result"
    }
   ],
   "source": [
    "n_table = pd.read_csv(os.path.join(data_path, '折射率.csv'))\n",
    "n_table"
   ]
  },
  {
   "cell_type": "code",
   "execution_count": 6,
   "metadata": {},
   "outputs": [
    {
     "data": {
      "text/html": [
       "<div>\n",
       "<style scoped>\n",
       "    .dataframe tbody tr th:only-of-type {\n",
       "        vertical-align: middle;\n",
       "    }\n",
       "\n",
       "    .dataframe tbody tr th {\n",
       "        vertical-align: top;\n",
       "    }\n",
       "\n",
       "    .dataframe thead th {\n",
       "        text-align: right;\n",
       "    }\n",
       "</style>\n",
       "<table border=\"1\" class=\"dataframe\">\n",
       "  <thead>\n",
       "    <tr style=\"text-align: right;\">\n",
       "      <th></th>\n",
       "      <th>组别</th>\n",
       "      <th>空瓶质量</th>\n",
       "      <th>5mL质量</th>\n",
       "    </tr>\n",
       "  </thead>\n",
       "  <tbody>\n",
       "    <tr>\n",
       "      <th>0</th>\n",
       "      <td>水</td>\n",
       "      <td>9.1749</td>\n",
       "      <td>14.0500</td>\n",
       "    </tr>\n",
       "    <tr>\n",
       "      <th>1</th>\n",
       "      <td>0.05</td>\n",
       "      <td>9.1749</td>\n",
       "      <td>13.0726</td>\n",
       "    </tr>\n",
       "    <tr>\n",
       "      <th>2</th>\n",
       "      <td>0.10</td>\n",
       "      <td>9.1749</td>\n",
       "      <td>13.0932</td>\n",
       "    </tr>\n",
       "    <tr>\n",
       "      <th>3</th>\n",
       "      <td>0.15</td>\n",
       "      <td>9.1752</td>\n",
       "      <td>13.1171</td>\n",
       "    </tr>\n",
       "    <tr>\n",
       "      <th>4</th>\n",
       "      <td>0.20</td>\n",
       "      <td>9.1850</td>\n",
       "      <td>13.2194</td>\n",
       "    </tr>\n",
       "  </tbody>\n",
       "</table>\n",
       "</div>"
      ],
      "text/plain": [
       "     组别    空瓶质量    5mL质量\n",
       "0     水  9.1749  14.0500\n",
       "1  0.05  9.1749  13.0726\n",
       "2  0.10  9.1749  13.0932\n",
       "3  0.15  9.1752  13.1171\n",
       "4  0.20  9.1850  13.2194"
      ]
     },
     "execution_count": 6,
     "metadata": {},
     "output_type": "execute_result"
    }
   ],
   "source": [
    "rho_table = pd.read_csv(os.path.join(data_path, '密度.csv'))\n",
    "rho_table"
   ]
  },
  {
   "cell_type": "code",
   "execution_count": 7,
   "metadata": {},
   "outputs": [
    {
     "data": {
      "text/html": [
       "<div>\n",
       "<style scoped>\n",
       "    .dataframe tbody tr th:only-of-type {\n",
       "        vertical-align: middle;\n",
       "    }\n",
       "\n",
       "    .dataframe tbody tr th {\n",
       "        vertical-align: top;\n",
       "    }\n",
       "\n",
       "    .dataframe thead th {\n",
       "        text-align: right;\n",
       "    }\n",
       "</style>\n",
       "<table border=\"1\" class=\"dataframe\">\n",
       "  <thead>\n",
       "    <tr style=\"text-align: right;\">\n",
       "      <th></th>\n",
       "      <th>组别</th>\n",
       "      <th>电容1</th>\n",
       "      <th>电容2</th>\n",
       "    </tr>\n",
       "  </thead>\n",
       "  <tbody>\n",
       "    <tr>\n",
       "      <th>0</th>\n",
       "      <td>空气</td>\n",
       "      <td>5.56</td>\n",
       "      <td>5.56</td>\n",
       "    </tr>\n",
       "    <tr>\n",
       "      <th>1</th>\n",
       "      <td>环己烷</td>\n",
       "      <td>8.14</td>\n",
       "      <td>8.14</td>\n",
       "    </tr>\n",
       "    <tr>\n",
       "      <th>2</th>\n",
       "      <td>0.05</td>\n",
       "      <td>8.39</td>\n",
       "      <td>8.38</td>\n",
       "    </tr>\n",
       "    <tr>\n",
       "      <th>3</th>\n",
       "      <td>0.10</td>\n",
       "      <td>8.80</td>\n",
       "      <td>8.78</td>\n",
       "    </tr>\n",
       "    <tr>\n",
       "      <th>4</th>\n",
       "      <td>0.15</td>\n",
       "      <td>8.88</td>\n",
       "      <td>8.89</td>\n",
       "    </tr>\n",
       "    <tr>\n",
       "      <th>5</th>\n",
       "      <td>0.20</td>\n",
       "      <td>8.93</td>\n",
       "      <td>8.92</td>\n",
       "    </tr>\n",
       "  </tbody>\n",
       "</table>\n",
       "</div>"
      ],
      "text/plain": [
       "     组别   电容1   电容2\n",
       "0    空气  5.56  5.56\n",
       "1   环己烷  8.14  8.14\n",
       "2  0.05  8.39  8.38\n",
       "3  0.10  8.80  8.78\n",
       "4  0.15  8.88  8.89\n",
       "5  0.20  8.93  8.92"
      ]
     },
     "execution_count": 7,
     "metadata": {},
     "output_type": "execute_result"
    }
   ],
   "source": [
    "c_table = pd.read_csv(os.path.join(data_path, '电容.csv'))\n",
    "c_table"
   ]
  },
  {
   "cell_type": "markdown",
   "metadata": {},
   "source": [
    "## 按照实验指导书作图"
   ]
  },
  {
   "cell_type": "markdown",
   "metadata": {},
   "source": [
    "### 计算实际物质的量分数\n",
    "\n",
    "实际的物质的量分数计算公式为\n",
    "\n",
    "$$\n",
    "n = \\frac{m_1 - m_0}{M} \n",
    "$$\n",
    "\n",
    "$$\n",
    "n' = \\frac{m_2 - m_1}{M'} \n",
    "$$\n",
    "\n",
    "$$\n",
    "w = \\frac{n}{n + n'}\n",
    "$$\n",
    "\n",
    "这里$n$为乙酸乙酯物质的量，$n'$为环己烷物质的量，$m_0, m_1, m_2$分别为先后测定的三个数值，也就是空容量瓶、乙酸、环己烷"
   ]
  },
  {
   "cell_type": "code",
   "execution_count": 8,
   "metadata": {},
   "outputs": [
    {
     "data": {
      "text/html": [
       "<div>\n",
       "<style scoped>\n",
       "    .dataframe tbody tr th:only-of-type {\n",
       "        vertical-align: middle;\n",
       "    }\n",
       "\n",
       "    .dataframe tbody tr th {\n",
       "        vertical-align: top;\n",
       "    }\n",
       "\n",
       "    .dataframe thead th {\n",
       "        text-align: right;\n",
       "    }\n",
       "</style>\n",
       "<table border=\"1\" class=\"dataframe\">\n",
       "  <thead>\n",
       "    <tr style=\"text-align: right;\">\n",
       "      <th></th>\n",
       "      <th>组别</th>\n",
       "      <th>x</th>\n",
       "    </tr>\n",
       "  </thead>\n",
       "  <tbody>\n",
       "    <tr>\n",
       "      <th>0</th>\n",
       "      <td>0.05</td>\n",
       "      <td>0.039782</td>\n",
       "    </tr>\n",
       "    <tr>\n",
       "      <th>1</th>\n",
       "      <td>0.10</td>\n",
       "      <td>0.087046</td>\n",
       "    </tr>\n",
       "    <tr>\n",
       "      <th>2</th>\n",
       "      <td>0.15</td>\n",
       "      <td>0.141605</td>\n",
       "    </tr>\n",
       "    <tr>\n",
       "      <th>3</th>\n",
       "      <td>0.20</td>\n",
       "      <td>0.185811</td>\n",
       "    </tr>\n",
       "  </tbody>\n",
       "</table>\n",
       "</div>"
      ],
      "text/plain": [
       "     组别         x\n",
       "0  0.05  0.039782\n",
       "1  0.10  0.087046\n",
       "2  0.15  0.141605\n",
       "3  0.20  0.185811"
      ]
     },
     "execution_count": 8,
     "metadata": {},
     "output_type": "execute_result"
    }
   ],
   "source": [
    "def get_w(weight_table: pd.DataFrame) -> pd.DataFrame:\n",
    "    n = (weight_table['乙酸'] - weight_table['空容量瓶']) / M_yi\n",
    "    n_ = (weight_table['环己烷'] - weight_table['乙酸']) / M_hr\n",
    "    w = n / (n + n_)\n",
    "    return pd.DataFrame(\n",
    "        {\n",
    "            \"组别\": weight_table['组别'],\n",
    "            \"x\": w\n",
    "        }\n",
    "    )\n",
    "w = get_w(weight_table)\n",
    "w"
   ]
  },
  {
   "cell_type": "markdown",
   "metadata": {},
   "source": [
    "### 绘制折射率$n$与$x_2$的关系，求出$\\gamma$值"
   ]
  },
  {
   "cell_type": "code",
   "execution_count": 9,
   "metadata": {},
   "outputs": [
    {
     "data": {
      "text/plain": [
       "1    1.42300\n",
       "2    1.42040\n",
       "3    1.41885\n",
       "4    1.41800\n",
       "dtype: float64"
      ]
     },
     "execution_count": 9,
     "metadata": {},
     "output_type": "execute_result"
    }
   ],
   "source": [
    "# 先计算平均值，也就是4组的n\n",
    "n = (n_table['n1'] + n_table['n2']) / 2\n",
    "n = n[1:]\n",
    "n"
   ]
  },
  {
   "cell_type": "code",
   "execution_count": 10,
   "metadata": {},
   "outputs": [
    {
     "data": {
      "text/plain": [
       "<matplotlib.legend.Legend at 0x7fad2305c1c0>"
      ]
     },
     "execution_count": 10,
     "metadata": {},
     "output_type": "execute_result"
    },
    {
     "data": {
      "image/png": "[encoded data removed]",
      "text/plain": [
       "<Figure size 432x288 with 1 Axes>"
      ]
     },
     "metadata": {
      "needs_background": "light"
     },
     "output_type": "display_data"
    }
   ],
   "source": [
    "# 绘制图像（线性回归）\n",
    "from matplotlib import pyplot as plt\n",
    "from sklearn import linear_model\n",
    "import numpy as np\n",
    "\n",
    "model = linear_model.LinearRegression()\n",
    "figure1_reg = model.fit(np.array(w['x']).reshape(-1, 1), n)\n",
    "x_pred = np.linspace(w['x'][0], w['x'][3], 100).reshape(-1, 1)\n",
    "y_pred = figure1_reg.predict(x_pred)\n",
    "plt.plot(x_pred, y_pred, label='y = %.3fx + %.3f' % (figure1_reg.coef_[0], figure1_reg.intercept_))\n",
    "plt.scatter(w['x'], n)\n",
    "plt.xlabel('$x_2$')\n",
    "plt.ylabel('n')\n",
    "plt.title('$x_2$-n')\n",
    "plt.legend()"
   ]
  },
  {
   "cell_type": "markdown",
   "metadata": {},
   "source": [
    "#### 计算$\\gamma$值\n",
    "\n",
    "由于\n",
    "$$\n",
    "n_{溶} = n_1(1 + \\gamma x_2)\n",
    "$$\n",
    "\n",
    "而回归方程为\n",
    "$$\n",
    "y_{n_溶} = ax_2 + b\n",
    "$$\n",
    "\n",
    "对照系数可以计算得：\n",
    "\n",
    "$$\n",
    "n_1 = b \\qquad \\gamma = \\frac{a}{b}\n",
    "$$"
   ]
  },
  {
   "cell_type": "code",
   "execution_count": 11,
   "metadata": {},
   "outputs": [
    {
     "data": {
      "text/plain": [
       "-0.023617939251635446"
      ]
     },
     "execution_count": 11,
     "metadata": {},
     "output_type": "execute_result"
    }
   ],
   "source": [
    "gamma = figure1_reg.coef_[0] / figure1_reg.intercept_\n",
    "gamma"
   ]
  },
  {
   "cell_type": "markdown",
   "metadata": {},
   "source": [
    "### 计算环己烷以及各种溶液的密度$\\rho$，作$\\rho-x_2$图，求出$\\beta$值"
   ]
  },
  {
   "cell_type": "code",
   "execution_count": 12,
   "metadata": {},
   "outputs": [
    {
     "data": {
      "text/plain": [
       "1    0.77954\n",
       "2    0.78366\n",
       "3    0.78838\n",
       "4    0.80688\n",
       "dtype: float64"
      ]
     },
     "execution_count": 12,
     "metadata": {},
     "output_type": "execute_result"
    }
   ],
   "source": [
    "rho = rho_table['5mL质量'] - rho_table['空瓶质量']\n",
    "rho = rho[1:] / 5\n",
    "rho # 单位：g/mL"
   ]
  },
  {
   "cell_type": "code",
   "execution_count": 13,
   "metadata": {},
   "outputs": [
    {
     "data": {
      "text/plain": [
       "<matplotlib.legend.Legend at 0x7fad20ed4cd0>"
      ]
     },
     "execution_count": 13,
     "metadata": {},
     "output_type": "execute_result"
    },
    {
     "data": {
      "image/png": "[encoded data removed]",
      "text/plain": [
       "<Figure size 432x288 with 1 Axes>"
      ]
     },
     "metadata": {
      "needs_background": "light"
     },
     "output_type": "display_data"
    }
   ],
   "source": [
    "figure2_reg = model.fit(np.array(w['x']).reshape(-1, 1), rho)\n",
    "x_pred = np.linspace(w['x'][0], w['x'][3], 100).reshape(-1, 1)\n",
    "y_pred = figure2_reg.predict(x_pred)\n",
    "plt.plot(x_pred, y_pred, label='y = %.3fx + %.3f' % (figure2_reg.coef_[0], figure2_reg.intercept_))\n",
    "plt.scatter(w['x'], rho)\n",
    "plt.xlabel('$x_2$')\n",
    "plt.ylabel('n')\n",
    "plt.title('$x_2$-n')\n",
    "plt.legend()"
   ]
  },
  {
   "cell_type": "markdown",
   "metadata": {},
   "source": [
    "利用公式\n",
    "$$\n",
    "\\beta = \\frac{a}{b}\n",
    "$$\n",
    "\n",
    "计算$\\beta$。"
   ]
  },
  {
   "cell_type": "code",
   "execution_count": 14,
   "metadata": {},
   "outputs": [
    {
     "data": {
      "text/plain": [
       "0.22594694342090157"
      ]
     },
     "execution_count": 14,
     "metadata": {},
     "output_type": "execute_result"
    }
   ],
   "source": [
    "beta = figure2_reg.coef_[0] / figure2_reg.intercept_\n",
    "beta"
   ]
  }
 ],
 "metadata": {
  "interpreter": {
   "hash": "e7370f93d1d0cde622a1f8e1c04877d8463912d04d973331ad4851f04de6915a"
  },
  "kernelspec": {
   "display_name": "Python 3.10.2 64-bit",
   "language": "python",
   "name": "python3"
  },
  "language_info": {
   "codemirror_mode": {
    "name": "ipython",
    "version": 3
   },
   "file_extension": ".py",
   "mimetype": "text/x-python",
   "name": "python",
   "nbconvert_exporter": "python",
   "pygments_lexer": "ipython3",
   "version": "3.9.7"
  },
  "orig_nbformat": 4
 },
 "nbformat": 4,
 "nbformat_minor": 2
}
